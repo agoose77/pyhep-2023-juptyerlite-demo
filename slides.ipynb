{
 "cells": [
  {
   "cell_type": "markdown",
   "id": "44fad5a2-3575-42b0-89c5-617c4fb8ba1d",
   "metadata": {
    "editable": true,
    "slideshow": {
     "slide_type": "slide"
    },
    "tags": []
   },
   "source": [
    "# HEP in the browser using JupyterLite and Emscripten-forge¶"
   ]
  },
  {
   "attachments": {},
   "cell_type": "markdown",
   "id": "5b041416-e878-4d07-8bce-d511cb348318",
   "metadata": {
    "editable": true,
    "slideshow": {
     "slide_type": "slide"
    },
    "tags": []
   },
   "source": [
    "## Running Python in the Browser\n",
    "\n",
    "Over the years, many projects have attempted to bring Python to the web-browser\n",
    "\n",
    "- Skulpt\n",
    "- PyPy.js\n",
    "- Brython\n",
    "- Transcrypt"
   ]
  },
  {
   "cell_type": "markdown",
   "id": "4a6c61a1-8533-4e32-afc4-7b46b3784bf7",
   "metadata": {
    "editable": true,
    "slideshow": {
     "slide_type": "fragment"
    },
    "tags": []
   },
   "source": [
    "These efforts fall into two categories:\n",
    "\n",
    "|                          Transpiler                          \t|                      Interpreter                      \t|\n",
    "|:------------------------------------------------------------:\t|:-----------------------------------------------------:\t|\n",
    "| User program is _transpiled_ from Python to JS ahead of time \t| User program is _interpreted_ by a JS-based Python VM \t|"
   ]
  },
  {
   "cell_type": "markdown",
   "id": "9f0354f4-44ec-45e6-b421-8932bc760929",
   "metadata": {
    "editable": true,
    "slideshow": {
     "slide_type": "subslide"
    },
    "tags": []
   },
   "source": [
    "Brython is a Python transpiler. Consider the following test program:\n",
    "```python\n",
    "for i in range(10):\n",
    "\tprint(i)\n",
    "```"
   ]
  },
  {
   "cell_type": "markdown",
   "id": "fff75010-b172-4c4b-a38d-855492a70072",
   "metadata": {
    "editable": true,
    "slideshow": {
     "slide_type": "fragment"
    },
    "tags": []
   },
   "source": [
    "For this simple snippet, Brython generates the following JavaScript:\n",
    "```javascript\n",
    "// Javascript code generated from ast\n",
    "var $B = __BRYTHON__,\n",
    "    _b_ = $B.builtins,\n",
    "    locals___main__ = $B.imported[\"__main__\"],\n",
    "    locals = locals___main__,\n",
    "    frame = [\"__main__\", locals, \"__main__\", locals]\n",
    "frame.__file__ = '<string>'\n",
    "locals.__name__ = '__main__'\n",
    "locals.__doc__ = _b_.None\n",
    "locals.__annotations__ = locals.__annotations__ || $B.empty_dict()\n",
    "frame.$f_trace = $B.enter_frame(frame)\n",
    "$B.set_lineno(frame, 1)\n",
    "\n",
    "var _frames = $B.frames_stack.slice()\n",
    "var stack_length = $B.frames_stack.length\n",
    "try{\n",
    "  frame.$lineno = 1\n",
    "  var no_break_1389 = true,\n",
    "      iterator_1389 = $B.$call(_b_.range, [9, 9, 18])(10)\n",
    "  for(var next_1389 of $B.make_js_iterator(iterator_1389, frame, 1)){\n",
    "    var v1390 = next_1389\n",
    "    locals___main__.i = v1390\n",
    "    $B.set_lineno(frame, 2);\n",
    "    $B.$call(_b_.print, [1, 1, 9])(locals___main__.i)\n",
    "  }\n",
    "  $B.leave_frame({locals, value: _b_.None})\n",
    "}catch(err){\n",
    "  $B.set_exc(err, frame)\n",
    "  if((! err.$in_trace_func) && frame.$f_trace !== _b_.None){\n",
    "    frame.$f_trace = $B.trace_exception()\n",
    "  }\n",
    "  $B.leave_frame({locals, value: _b_.None})\n",
    "  throw err\n",
    "}\n",
    "```"
   ]
  },
  {
   "cell_type": "markdown",
   "id": "a2b7d09f-a42f-465e-a76b-c7f8daf10c64",
   "metadata": {},
   "source": [
    "PyPy.js is a version of the PyPy interpreter, compiled for the web using [ASM.js](http://asmjs.org/spec/latest/#introduction), a subset of JavaScript that cooperating interpreters can optimise. It executes Python _bytecode_."
   ]
  },
  {
   "cell_type": "code",
   "execution_count": null,
   "id": "29940910-4fa3-4eb6-b9af-f8c4d807163b",
   "metadata": {},
   "outputs": [],
   "source": []
  }
 ],
 "metadata": {
  "kernelspec": {
   "display_name": "Python 3 (ipykernel)",
   "language": "python",
   "name": "python3"
  },
  "language_info": {
   "codemirror_mode": {
    "name": "ipython",
    "version": 3
   },
   "file_extension": ".py",
   "mimetype": "text/x-python",
   "name": "python",
   "nbconvert_exporter": "python",
   "pygments_lexer": "ipython3",
   "version": "3.11.5"
  }
 },
 "nbformat": 4,
 "nbformat_minor": 5
}
