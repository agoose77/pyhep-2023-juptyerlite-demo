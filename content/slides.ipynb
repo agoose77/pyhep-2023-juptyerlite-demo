{
 "cells": [
  {
   "cell_type": "markdown",
   "id": "44fad5a2-3575-42b0-89c5-617c4fb8ba1d",
   "metadata": {
    "editable": true,
    "slideshow": {
     "slide_type": "slide"
    },
    "tags": []
   },
   "source": [
    "# HEP in the browser using JupyterLite and Emscripten-forge¶"
   ]
  },
  {
   "attachments": {},
   "cell_type": "markdown",
   "id": "5b041416-e878-4d07-8bce-d511cb348318",
   "metadata": {
    "editable": true,
    "slideshow": {
     "slide_type": "slide"
    },
    "tags": []
   },
   "source": [
    "## Running Python in the Browser\n",
    "\n",
    "Over the years, many projects have attempted to bring Python to the web-browser\n",
    "\n",
    "- Skulpt\n",
    "- PyPy.js\n",
    "- Brython\n",
    "- Transcrypt"
   ]
  },
  {
   "cell_type": "markdown",
   "id": "4a6c61a1-8533-4e32-afc4-7b46b3784bf7",
   "metadata": {
    "@deathbeds/jupyterlab-fonts": {
     "styles": {
      "": {
       "body[data-jp-deck-mode='presenting'] &": {
        "z-index": null
       }
      }
     }
    },
    "editable": true,
    "slideshow": {
     "slide_type": "fragment"
    },
    "tags": []
   },
   "source": [
    "These efforts fall into two categories:\n",
    "\n",
    "|                          Transpiler                          \t|                      Interpreter                      \t|\n",
    "|:------------------------------------------------------------:\t|:-----------------------------------------------------:\t|\n",
    "| User program is _transpiled_ from Python to JS ahead of time \t| User program is _interpreted_ by a JS-based Python VM \t|"
   ]
  },
  {
   "cell_type": "markdown",
   "id": "9f0354f4-44ec-45e6-b421-8932bc760929",
   "metadata": {
    "editable": true,
    "slideshow": {
     "slide_type": "subslide"
    },
    "tags": []
   },
   "source": [
    "Brython is a Python transpiler. Consider the following test program:\n",
    ":::{code} python\n",
    ":name: brython-snippet\n",
    ":caption: Simple Python program to transiple with Brython.\n",
    "\n",
    "for i in range(10):\n",
    "    print(i)\n",
    ":::"
   ]
  },
  {
   "cell_type": "markdown",
   "id": "fff75010-b172-4c4b-a38d-855492a70072",
   "metadata": {
    "editable": true,
    "slideshow": {
     "slide_type": "fragment"
    },
    "tags": []
   },
   "source": [
    "For this simple snippet, Brython generates the following JavaScript:\n",
    ":::{code} javascript\n",
    ":caption: Generated JS for {numref}`brython-snippet`.\n",
    "\n",
    "// Javascript code generated from ast\n",
    "var $B = __BRYTHON__,\n",
    "    _b_ = $B.builtins,\n",
    "    locals___main__ = $B.imported[\"__main__\"],\n",
    "    locals = locals___main__,\n",
    "    frame = [\"__main__\", locals, \"__main__\", locals]\n",
    "frame.__file__ = '<string>'\n",
    "locals.__name__ = '__main__'\n",
    "locals.__doc__ = _b_.None\n",
    "locals.__annotations__ = locals.__annotations__ || $B.empty_dict()\n",
    "frame.$f_trace = $B.enter_frame(frame)\n",
    "$B.set_lineno(frame, 1)\n",
    "\n",
    "var _frames = $B.frames_stack.slice()\n",
    "var stack_length = $B.frames_stack.length\n",
    "try{\n",
    "  frame.$lineno = 1\n",
    "  var no_break_1389 = true,\n",
    "      iterator_1389 = $B.$call(_b_.range, [9, 9, 18])(10)\n",
    "  for(var next_1389 of $B.make_js_iterator(iterator_1389, frame, 1)){\n",
    "    var v1390 = next_1389\n",
    "    locals___main__.i = v1390\n",
    "    $B.set_lineno(frame, 2);\n",
    "    $B.$call(_b_.print, [1, 1, 9])(locals___main__.i)\n",
    "  }\n",
    "  $B.leave_frame({locals, value: _b_.None})\n",
    "}catch(err){\n",
    "  $B.set_exc(err, frame)\n",
    "  if((! err.$in_trace_func) && frame.$f_trace !== _b_.None){\n",
    "    frame.$f_trace = $B.trace_exception()\n",
    "  }\n",
    "  $B.leave_frame({locals, value: _b_.None})\n",
    "  throw err\n",
    "}\n",
    "```"
   ]
  },
  {
   "attachments": {},
   "cell_type": "markdown",
   "id": "ded60f0d-eb3f-4a9b-8525-4a31dcdaaa06",
   "metadata": {
    "editable": true,
    "slideshow": {
     "slide_type": "fragment"
    },
    "tags": []
   },
   "source": [
    "PyPy.js is a version of the PyPy interpreter compiled for the web using [ASM.js](https://en.wikipedia.org/wiki/Asm.js), a subset of JavaScript that cooperating interpreters can optimise:\n",
    "\n",
    ":::{code} javascript\n",
    ":caption: An example of an ASM.js routine.\n",
    ":name: asm-js-sample\n",
    "\n",
    "function DiagModule(stdlib, foreign, heap) {\n",
    "    \"use asm\";\n",
    "\n",
    "    // Variable Declarations\n",
    "    var sqrt = stdlib.Math.sqrt;\n",
    "\n",
    "    // Function Declarations\n",
    "    function square(x) {\n",
    "        x = +x;\n",
    "        return +(x*x);\n",
    "    }\n",
    "\n",
    "    function diag(x, y) {\n",
    "        x = +x;\n",
    "        y = +y;\n",
    "        return +sqrt(square(x) + square(y));\n",
    "    }\n",
    "\n",
    "    return { diag: diag };\n",
    "}\n",
    "\n",
    ":::\n",
    "\n",
    "These efforts solved the problem of running \"arbitrary\" Python code in the browser."
   ]
  },
  {
   "attachments": {},
   "cell_type": "markdown",
   "id": "df82a9da-550e-40c9-b34c-785d5db186aa",
   "metadata": {
    "editable": true,
    "slideshow": {
     "slide_type": "fragment"
    },
    "tags": []
   },
   "source": [
    "But, most of the HEP ecosystem uses Python extension modules, e.g. NumPy, SciPy, Awkward Array, Boost.Histogram, etc. How can we run those on the web?"
   ]
  },
  {
   "cell_type": "markdown",
   "id": "949842e6-a6af-4688-96c6-d362a3b066da",
   "metadata": {
    "editable": true,
    "slideshow": {
     "slide_type": "subslide"
    },
    "tags": []
   },
   "source": [
    ":::{image} img/one-ring-meme-small.png\n",
    ":align: center\n",
    ":::"
   ]
  },
  {
   "cell_type": "markdown",
   "id": "5c772193-be78-4d52-8cf7-2255f0266692",
   "metadata": {
    "editable": true,
    "slideshow": {
     "slide_type": "fragment"
    },
    "tags": []
   },
   "source": [
    "Emscripten is\n",
    "> [...] a complete compiler toolchain to WebAssembly, using LLVM [...]"
   ]
  },
  {
   "cell_type": "markdown",
   "id": "a3c4b9d4-3771-4ae5-b0b5-9b63a2635347",
   "metadata": {
    "editable": true,
    "slideshow": {
     "slide_type": "fragment"
    },
    "tags": []
   },
   "source": [
    "It can e.g. compile a trivial hello world in C ({numref}`hello-world`)\n",
    ":::{code} c\n",
    ":caption: A simple C++ hello-world program.\n",
    ":name: hello-world\n",
    "\n",
    "#include <stdio.h>\n",
    "\n",
    "int main() {\n",
    "  printf(\"hello, world!\\n\");\n",
    "  return 0;\n",
    "}\n",
    ":::"
   ]
  },
  {
   "cell_type": "markdown",
   "id": "0f31b743-ead6-4d2c-b615-ab1d72c24310",
   "metadata": {
    "editable": true,
    "slideshow": {
     "slide_type": "fragment"
    },
    "tags": []
   },
   "source": [
    "to a a web-friendly JS module, using a simple CLI ({numref}`emcc-cli`)\n",
    ":::{code} bash\n",
    ":caption: Building an Emscripten-powered REPL with `emcc`.\n",
    ":name: emcc-cli\n",
    "\n",
    "# Compile\n",
    "emcc -c test.c -o test.o\n",
    "# Link\n",
    "emcc test.o -o test.html\n",
    ":::"
   ]
  },
  {
   "cell_type": "markdown",
   "id": "bfb6fd84-9a76-4b95-880b-2516c2f1d531",
   "metadata": {
    "editable": true,
    "slideshow": {
     "slide_type": "fragment"
    },
    "tags": []
   },
   "source": [
    "How do we use Emscripten to run NumPy in Firefox?"
   ]
  },
  {
   "cell_type": "markdown",
   "id": "47c6108d-b585-4609-ab19-d89e4cc2dbdd",
   "metadata": {
    "editable": true,
    "slideshow": {
     "slide_type": "subslide"
    },
    "tags": []
   },
   "source": [
    "Enter Pyodide\n",
    ":::{image} https://github.com/pyodide/pyodide/raw/main/docs/_static/img/pyodide-logo-readme.png\n",
    ":::"
   ]
  },
  {
   "cell_type": "markdown",
   "id": "d4312e23-2dcb-4579-a5e2-9669d8ac402f",
   "metadata": {
    "editable": true,
    "slideshow": {
     "slide_type": "fragment"
    },
    "tags": []
   },
   "source": [
    "It facilitates interfacing between JS and Python using FFI\n",
    ":::{code} javascript\n",
    ":caption: Listening for events from Python.\n",
    "\n",
    "from pyodide.ffi import create_proxy\n",
    "from js import document\n",
    "\n",
    "# Create callback\n",
    "def my_callback():\n",
    "    print(\"hi\")\n",
    "proxy = create_proxy(my_callback)\n",
    "\n",
    "# Add event listener!\n",
    "document.body.addEventListener(\"click\", proxy)\n",
    ":::"
   ]
  },
  {
   "attachments": {},
   "cell_type": "markdown",
   "id": "5d315627-455e-41e4-a579-8aed419a4e28",
   "metadata": {
    "editable": true,
    "slideshow": {
     "slide_type": "fragment"
    },
    "tags": []
   },
   "source": [
    "Installing packages using `micropip`\n",
    "\n",
    ":::{code} python\n",
    ":caption: Using `micropip` in Pyodide.\n",
    "\n",
    "import micropip\n",
    "await micropip.install(\"matplotlib\")\n",
    "\n",
    "import matplotlib\n",
    ":::"
   ]
  },
  {
   "cell_type": "markdown",
   "id": "45282f1e-d62e-4b4f-bced-95a807ed72ac",
   "metadata": {
    "editable": true,
    "slideshow": {
     "slide_type": "fragment"
    },
    "tags": []
   },
   "source": [
    "And setting up the Python interpreter!"
   ]
  },
  {
   "cell_type": "code",
   "execution_count": null,
   "id": "9def2b47-79c4-4663-9594-b0ab2690e706",
   "metadata": {
    "editable": true,
    "slideshow": {
     "slide_type": ""
    },
    "tags": []
   },
   "outputs": [],
   "source": []
  }
 ],
 "metadata": {
  "kernelspec": {
   "display_name": "Python 3 (ipykernel)",
   "language": "python",
   "name": "python3"
  },
  "language_info": {
   "codemirror_mode": {
    "name": "ipython",
    "version": 3
   },
   "file_extension": ".py",
   "mimetype": "text/x-python",
   "name": "python",
   "nbconvert_exporter": "python",
   "pygments_lexer": "ipython3",
   "version": "3.11.5"
  }
 },
 "nbformat": 4,
 "nbformat_minor": 5
}
