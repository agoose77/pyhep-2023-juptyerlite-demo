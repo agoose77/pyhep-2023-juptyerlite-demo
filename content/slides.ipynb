{
 "cells": [
  {
   "cell_type": "markdown",
   "id": "44fad5a2-3575-42b0-89c5-617c4fb8ba1d",
   "metadata": {
    "editable": true,
    "slideshow": {
     "slide_type": "slide"
    },
    "tags": []
   },
   "source": [
    "# HEP in the browser using JupyterLite and Emscripten-forge¶"
   ]
  },
  {
   "cell_type": "markdown",
   "id": "765f1ded-4203-4acc-aba5-763090484876",
   "metadata": {
    "editable": true,
    "slideshow": {
     "slide_type": "notes"
    },
    "tags": []
   },
   "source": [
    "- My name's Angus\n",
    "- I am a Postdoc/Senior Research Assistant at Princeton (depending upon the contract!)\n",
    "- Working on the Awkward Array project and wider ecosystem\n",
    "- My interests are in \"holistic software development\" (a term I just made up) i.e. everything from CI/CD, to documentation.\n",
    "- I've recently been interacting more with building applications for the web, and thinking about some of the challenges associated with HEP."
   ]
  },
  {
   "attachments": {},
   "cell_type": "markdown",
   "id": "5b041416-e878-4d07-8bce-d511cb348318",
   "metadata": {
    "editable": true,
    "slideshow": {
     "slide_type": "slide"
    },
    "tags": []
   },
   "source": [
    "## Running Python in the Browser\n",
    "\n",
    "Over the years, many projects have attempted to bring Python to the web-browser\n",
    "\n",
    "- Skulpt\n",
    "- PyPy.js\n",
    "- Brython\n",
    "- Transcrypt"
   ]
  },
  {
   "cell_type": "markdown",
   "id": "4a6c61a1-8533-4e32-afc4-7b46b3784bf7",
   "metadata": {
    "editable": true,
    "slideshow": {
     "slide_type": "fragment"
    },
    "tags": []
   },
   "source": [
    "These efforts fall into two categories:\n",
    "\n",
    "|                          Transpiler                          \t|                      Interpreter                      \t|\n",
    "|:------------------------------------------------------------:\t|:-----------------------------------------------------:\t|\n",
    "| User program is _transpiled_ from Python to JS ahead of time \t| User program is _interpreted_ by a JS-based Python VM \t|"
   ]
  },
  {
   "cell_type": "markdown",
   "id": "9f0354f4-44ec-45e6-b421-8932bc760929",
   "metadata": {
    "editable": true,
    "slideshow": {
     "slide_type": "subslide"
    },
    "tags": []
   },
   "source": [
    "Brython is a Python transpiler. Consider the following test program:\n",
    ":::{code} python\n",
    ":name: brython-snippet\n",
    ":caption: Simple Python program to transiple with Brython.\n",
    "\n",
    "for i in range(10):\n",
    "    print(i)\n",
    ":::"
   ]
  },
  {
   "cell_type": "markdown",
   "id": "fff75010-b172-4c4b-a38d-855492a70072",
   "metadata": {
    "editable": true,
    "slideshow": {
     "slide_type": "fragment"
    },
    "tags": []
   },
   "source": [
    "For this simple snippet, Brython generates the following JavaScript:\n",
    ":::{code} javascript\n",
    ":caption: Generated JS for {numref}`brython-snippet`.\n",
    "\n",
    "// Javascript code generated from ast\n",
    "var $B = __BRYTHON__,\n",
    "    _b_ = $B.builtins,\n",
    "    locals___main__ = $B.imported[\"__main__\"],\n",
    "    locals = locals___main__,\n",
    "    frame = [\"__main__\", locals, \"__main__\", locals]\n",
    "frame.__file__ = '<string>'\n",
    "locals.__name__ = '__main__'\n",
    "locals.__doc__ = _b_.None\n",
    "locals.__annotations__ = locals.__annotations__ || $B.empty_dict()\n",
    "frame.$f_trace = $B.enter_frame(frame)\n",
    "$B.set_lineno(frame, 1)\n",
    "\n",
    "var _frames = $B.frames_stack.slice()\n",
    "var stack_length = $B.frames_stack.length\n",
    "try{\n",
    "  frame.$lineno = 1\n",
    "  var no_break_1389 = true,\n",
    "      iterator_1389 = $B.$call(_b_.range, [9, 9, 18])(10)\n",
    "  for(var next_1389 of $B.make_js_iterator(iterator_1389, frame, 1)){\n",
    "    var v1390 = next_1389\n",
    "    locals___main__.i = v1390\n",
    "    $B.set_lineno(frame, 2);\n",
    "    $B.$call(_b_.print, [1, 1, 9])(locals___main__.i)\n",
    "  }\n",
    "  $B.leave_frame({locals, value: _b_.None})\n",
    "}catch(err){\n",
    "  $B.set_exc(err, frame)\n",
    "  if((! err.$in_trace_func) && frame.$f_trace !== _b_.None){\n",
    "    frame.$f_trace = $B.trace_exception()\n",
    "  }\n",
    "  $B.leave_frame({locals, value: _b_.None})\n",
    "  throw err\n",
    "}\n",
    ":::"
   ]
  },
  {
   "cell_type": "markdown",
   "id": "2b948c74-b86c-4386-bf28-e77482570a43",
   "metadata": {
    "editable": true,
    "slideshow": {
     "slide_type": "subslide"
    },
    "tags": []
   },
   "source": [
    "PyPy.js is a version of the PyPy interpreter compiled for the web using [ASM.js](https://en.wikipedia.org/wiki/Asm.js), a subset of JavaScript that cooperating interpreters can optimise:\n",
    "\n",
    ":::{code} javascript\n",
    ":caption: An example of an ASM.js routine.\n",
    ":name: asm-js-sample\n",
    "\n",
    "function DiagModule(stdlib, foreign, heap) {\n",
    "    \"use asm\";\n",
    "\n",
    "    // Variable Declarations\n",
    "    var sqrt = stdlib.Math.sqrt;\n",
    "\n",
    "    // Function Declarations\n",
    "    function square(x) {\n",
    "        x = +x;\n",
    "        return +(x*x);\n",
    "    }\n",
    "\n",
    "    function diag(x, y) {\n",
    "        x = +x;\n",
    "        y = +y;\n",
    "        return +sqrt(square(x) + square(y));\n",
    "    }\n",
    "\n",
    "    return { diag: diag };\n",
    "}\n",
    "\n",
    ":::"
   ]
  },
  {
   "cell_type": "markdown",
   "id": "5f83e928-59ba-438e-afcd-1bac3513c6f5",
   "metadata": {
    "editable": true,
    "slideshow": {
     "slide_type": "fragment"
    },
    "tags": []
   },
   "source": [
    "These efforts solved the problem of running \"arbitrary\" Python code in the browser."
   ]
  },
  {
   "attachments": {},
   "cell_type": "markdown",
   "id": "df82a9da-550e-40c9-b34c-785d5db186aa",
   "metadata": {
    "editable": true,
    "slideshow": {
     "slide_type": "fragment"
    },
    "tags": []
   },
   "source": [
    "But, most of the HEP ecosystem uses Python extension modules, e.g. NumPy, SciPy, Awkward Array, Boost.Histogram, etc. How can we run those on the web?"
   ]
  },
  {
   "cell_type": "markdown",
   "id": "949842e6-a6af-4688-96c6-d362a3b066da",
   "metadata": {
    "@deathbeds/jupyterlab-fonts": {
     "styles": {
      "": {
       "body[data-jp-deck-mode='presenting'] &": {
        "height": "auto",
        "left": "0%",
        "position": "fixed",
        "top": "0%",
        "width": "58%"
       }
      }
     }
    },
    "editable": true,
    "slideshow": {
     "slide_type": "subslide"
    },
    "tags": []
   },
   "source": [
    ":::{image} img/one-ring-meme-small.png\n",
    ":align: center\n",
    ":width: 100%\n",
    "\n",
    ":::"
   ]
  },
  {
   "cell_type": "markdown",
   "id": "5c772193-be78-4d52-8cf7-2255f0266692",
   "metadata": {
    "@deathbeds/jupyterlab-fonts": {
     "styles": {
      "": {
       "body[data-jp-deck-mode='presenting'] &": {
        "height": "15%",
        "left": "58%",
        "position": "fixed",
        "top": "0%",
        "width": "42%"
       }
      }
     }
    },
    "editable": true,
    "slideshow": {
     "slide_type": "fragment"
    },
    "tags": []
   },
   "source": [
    "Emscripten is\n",
    "> [...] a complete compiler toolchain to WebAssembly, using LLVM [...]"
   ]
  },
  {
   "attachments": {},
   "cell_type": "markdown",
   "id": "e8efead8-7075-4a3a-80e4-4b640c265a28",
   "metadata": {
    "@deathbeds/jupyterlab-fonts": {
     "styles": {
      "": {
       "body[data-jp-deck-mode='presenting'] &": {
        "height": "70%",
        "left": "58%",
        "position": "fixed",
        "top": "16%",
        "width": "42%"
       }
      }
     }
    },
    "editable": true,
    "slideshow": {
     "slide_type": "fragment"
    },
    "tags": []
   },
   "source": [
    "It can e.g. compile a trivial hello world in C ({numref}`hello-world`)\n",
    ":::{code} c\n",
    ":caption: A simple C++ hello-world program.\n",
    ":name: hello-world\n",
    "\n",
    "#include <stdio.h>\n",
    "\n",
    "int main() {\n",
    "  printf(\"hello, world!\\n\");\n",
    "  return 0;\n",
    "}\n",
    ":::\n",
    "\n",
    "to a a web-friendly JS module, using a simple CLI ({numref}`emcc-cli`)\n",
    ":::{code} bash\n",
    ":caption: Building an Emscripten-powered REPL with `emcc`.\n",
    ":name: emcc-cli\n",
    "\n",
    "# Compile\n",
    "emcc -c test.c -o test.o\n",
    "# Link\n",
    "emcc test.o -o test.html\n",
    ":::"
   ]
  },
  {
   "cell_type": "markdown",
   "id": "56d46fd4-d8a8-481a-9e39-223bf6351b27",
   "metadata": {
    "editable": true,
    "slideshow": {
     "slide_type": "subslide"
    },
    "tags": []
   },
   "source": [
    "## Building an Ecosystem"
   ]
  },
  {
   "cell_type": "markdown",
   "id": "2b1703d5-a6b9-4f36-9ab7-72b7cc886f89",
   "metadata": {
    "editable": true,
    "slideshow": {
     "slide_type": "fragment"
    },
    "tags": []
   },
   "source": [
    "Just being able to run arbitrary code on the web is not enough."
   ]
  },
  {
   "cell_type": "markdown",
   "id": "7182a24e-7915-476a-9d38-a687cac35fc9",
   "metadata": {
    "editable": true,
    "slideshow": {
     "slide_type": "fragment"
    },
    "tags": []
   },
   "source": [
    "Modern software is composable, collaborative, and complex!"
   ]
  },
  {
   "cell_type": "markdown",
   "id": "d3b7052b-46f9-403c-8b42-f1bf6c526ae6",
   "metadata": {
    "editable": true,
    "slideshow": {
     "slide_type": "fragment"
    },
    "tags": []
   },
   "source": [
    "We need to be able to build a software ecosystem."
   ]
  },
  {
   "cell_type": "markdown",
   "id": "47c6108d-b585-4609-ab19-d89e4cc2dbdd",
   "metadata": {
    "editable": true,
    "slideshow": {
     "slide_type": "subslide"
    },
    "tags": []
   },
   "source": [
    ":::{figure} img/pyodide-logo-readme.png\n",
    ":align: left\n",
    "\n",
    "Pyodide logo.\n",
    ":::"
   ]
  },
  {
   "cell_type": "markdown",
   "id": "d4312e23-2dcb-4579-a5e2-9669d8ac402f",
   "metadata": {
    "editable": true,
    "slideshow": {
     "slide_type": "fragment"
    },
    "tags": []
   },
   "source": [
    "It facilitates interfacing between JS and Python using FFI\n",
    ":::{code} javascript\n",
    ":caption: Listening for events from Python.\n",
    "\n",
    "from pyodide.ffi import create_proxy\n",
    "from js import document\n",
    "\n",
    "# Create callback\n",
    "def my_callback():\n",
    "    print(\"hi\")\n",
    "proxy = create_proxy(my_callback)\n",
    "\n",
    "# Add event listener!\n",
    "document.body.addEventListener(\"click\", proxy)\n",
    ":::"
   ]
  },
  {
   "attachments": {},
   "cell_type": "markdown",
   "id": "5d315627-455e-41e4-a579-8aed419a4e28",
   "metadata": {
    "editable": true,
    "slideshow": {
     "slide_type": "fragment"
    },
    "tags": []
   },
   "source": [
    "Installing packages using `micropip`\n",
    "\n",
    ":::{code} python\n",
    ":caption: Using `micropip` in Pyodide.\n",
    "\n",
    "import micropip\n",
    "await micropip.install(\"matplotlib\")\n",
    "\n",
    "import matplotlib\n",
    ":::\n",
    "\n",
    "including pure-Python wheels from PyPI, *and* over 200 other compiled packages!"
   ]
  },
  {
   "cell_type": "markdown",
   "id": "df716ac7-5fa1-423d-b3de-db59bd405285",
   "metadata": {
    "editable": true,
    "slideshow": {
     "slide_type": "fragment"
    },
    "tags": []
   },
   "source": [
    "If you've heard of `<pyscript>`, it's Pyodide that powers it!"
   ]
  },
  {
   "cell_type": "markdown",
   "id": "18462f38-f35e-4fa8-bfa8-0d538cdb2fe6",
   "metadata": {
    "editable": true,
    "slideshow": {
     "slide_type": ""
    },
    "tags": []
   },
   "source": [
    "Adding a package to Pyodide involves creating a recipe in their repository (see {numref}`pyodide-recipe`):\n",
    ":::{code} yaml\n",
    ":caption: `awkward-cpp` Pyodide build recipe.\n",
    ":name: pyodide-recipe\n",
    "\n",
    "package:\n",
    "  name: awkward-cpp\n",
    "  version: 22\n",
    "  top-level:\n",
    "    - awkward_cpp\n",
    "\n",
    "source:\n",
    "  url: https://files.pythonhosted.org/packages/8b/f8/97efcc2d52e2f9967f9beed86ed6736fc6eed91eb2d974a1bdc8c438146d/awkward-cpp-22.tar.gz\n",
    "  sha256: 21679636fb21cfe3715f88a32326a579199384db2da4a62995c310502d7fe85f\n",
    "\n",
    "build:\n",
    "  script: |\n",
    "    export CMAKE_ARGS=\"${CMAKE_ARGS} -DEMSCRIPTEN=1\"\n",
    "  exports: whole_archive\n",
    "\n",
    "requirements:\n",
    "  run:\n",
    "    - numpy\n",
    "\n",
    "test:\n",
    "  imports:\n",
    "    - awkward_cpp\n",
    "\n",
    "about:\n",
    "  home: https://pypi.org/project/awkward-cpp/\n",
    "  summary: CPU kernels and compiled extensions for Awkward Array\n",
    "  license: BSD-3-Clause\n",
    ":::"
   ]
  },
  {
   "cell_type": "markdown",
   "id": "3335a8c1-0d25-42c7-a532-198d60eec77d",
   "metadata": {
    "editable": true,
    "slideshow": {
     "slide_type": "subslide"
    },
    "tags": []
   },
   "source": [
    ":::{figure} img/pyodide-logo-readme-sad.png\n",
    ":align: left\n",
    "\n",
    "An unhappy Pyodide logo.\n",
    ":::"
   ]
  },
  {
   "cell_type": "markdown",
   "id": "e8c85236-4471-419c-98a4-960fd2f17f21",
   "metadata": {
    "editable": true,
    "slideshow": {
     "slide_type": "fragment"
    },
    "tags": []
   },
   "source": [
    "Pyodide is not perfect!"
   ]
  },
  {
   "cell_type": "markdown",
   "id": "01436714-f4f9-4889-a3de-2f92d8757953",
   "metadata": {
    "editable": true,
    "slideshow": {
     "slide_type": "fragment"
    },
    "tags": []
   },
   "source": [
    "One can't pre-install wheels without rebuilding entire Pyodide distribution"
   ]
  },
  {
   "cell_type": "markdown",
   "id": "ac35f9da-313f-4599-ab48-d36dceaa401d",
   "metadata": {
    "editable": true,
    "slideshow": {
     "slide_type": "fragment"
    },
    "tags": []
   },
   "source": [
    "Packages are built as a _distribution_, meaning no choices in version"
   ]
  },
  {
   "cell_type": "markdown",
   "id": "02610613-f47f-4a10-bafc-783dc08972c0",
   "metadata": {
    "editable": true,
    "slideshow": {
     "slide_type": "fragment"
    },
    "tags": []
   },
   "source": [
    "It uses custom (one-off) tooling to build releases"
   ]
  },
  {
   "cell_type": "markdown",
   "id": "325b5af8-5dcc-4e1a-91b5-d9c9fff98f19",
   "metadata": {
    "@deathbeds/jupyterlab-fonts": {
     "styles": {
      "": {
       "body[data-jp-deck-mode='presenting'] &": {
        "height": "100%",
        "left": "0%",
        "position": "fixed",
        "top": "0%",
        "width": "auto"
       }
      }
     }
    },
    "editable": true,
    "slideshow": {
     "slide_type": "subslide"
    },
    "tags": []
   },
   "source": [
    ":::{figure} img/winnie-pooh-meme.png\n",
    ":align: left\n",
    "\n",
    "A technical representation of Pyodide vs emscripten-forge.\n",
    ":::"
   ]
  },
  {
   "cell_type": "markdown",
   "id": "315304a4-c967-4685-8598-9baa6aa282e3",
   "metadata": {
    "@deathbeds/jupyterlab-fonts": {
     "styles": {
      "": {
       "body[data-jp-deck-mode='presenting'] &": {
        "height": "auto",
        "left": "50%",
        "position": "relative",
        "top": "0%",
        "width": "50%"
       }
      }
     }
    },
    "editable": true,
    "slideshow": {
     "slide_type": "fragment"
    },
    "tags": []
   },
   "source": [
    "Emscripten-forge is a _community-maintained_ distribution, which crowdsources maintainership through centralised channels."
   ]
  },
  {
   "cell_type": "markdown",
   "id": "58c6e882-a439-434c-8ce8-8fc448f7cce0",
   "metadata": {
    "@deathbeds/jupyterlab-fonts": {
     "styles": {
      "": {
       "body[data-jp-deck-mode='presenting'] &": {
        "height": "auto",
        "left": "50%",
        "position": "relative",
        "top": "0%",
        "width": "50%"
       }
      }
     }
    },
    "editable": true,
    "slideshow": {
     "slide_type": "fragment"
    },
    "tags": []
   },
   "source": [
    "It leverages the existing tooling around conda/mamba\n",
    "\n",
    ":::{code} yaml\n",
    ":caption: The Conda environment for this talk's demo.\n",
    ":name: environment-demo\n",
    "\n",
    "name: xeus-python-kernel\n",
    "channels:\n",
    "  - https://repo.mamba.pm/emscripten-forge\n",
    "  - https://repo.mamba.pm/conda-forge\n",
    "dependencies:\n",
    "  - awkward >=2.4.0\n",
    "  - hist-base\n",
    "  - vector\n",
    "  - numpy\n",
    "  - matplotlib-base\n",
    "  - mplhep\n",
    "  - uproot-base >=5.0.12\n",
    ":::"
   ]
  },
  {
   "cell_type": "markdown",
   "id": "52cf56c8-5e8f-4fba-8a14-be76639b65ed",
   "metadata": {
    "@deathbeds/jupyterlab-fonts": {
     "styles": {
      "": {
       "body[data-jp-deck-mode='presenting'] &": {
        "height": "auto",
        "left": "50%",
        "position": "relative",
        "top": "0%",
        "width": "50%"
       }
      }
     }
    },
    "editable": true,
    "slideshow": {
     "slide_type": "fragment"
    },
    "tags": []
   },
   "source": [
    "It supports pinning package versions (good for reproducibility)"
   ]
  },
  {
   "cell_type": "markdown",
   "id": "87ac9a24-787c-4ba4-9e2a-101f3f23b113",
   "metadata": {
    "@deathbeds/jupyterlab-fonts": {
     "styles": {
      "": {
       "body[data-jp-deck-mode='presenting'] &": {
        "height": "auto",
        "left": "50%",
        "position": "relative",
        "top": "0%",
        "width": "50%"
       }
      }
     }
    },
    "editable": true,
    "slideshow": {
     "slide_type": "fragment"
    },
    "tags": []
   },
   "source": [
    "Packages can be pre-installed, and their contents pruned!"
   ]
  },
  {
   "cell_type": "markdown",
   "id": "b3c39103-bc6e-4ed3-b24d-a2290a58639d",
   "metadata": {
    "editable": true,
    "slideshow": {
     "slide_type": "subslide"
    },
    "tags": []
   },
   "source": [
    "## After ASM.js"
   ]
  },
  {
   "cell_type": "markdown",
   "id": "815aadcc-ffb3-41cc-b4a7-09ca1aadc5ca",
   "metadata": {
    "editable": true,
    "slideshow": {
     "slide_type": "fragment"
    },
    "tags": []
   },
   "source": [
    "Software engineers decided that things were too simple with ASM.js"
   ]
  },
  {
   "cell_type": "markdown",
   "id": "88ae36d3-0b5c-4b83-812f-061513f98a71",
   "metadata": {
    "editable": true,
    "slideshow": {
     "slide_type": "fragment"
    },
    "tags": []
   },
   "source": [
    "They came up with their own stack-based virtual machine to execute a new bytecode format called [Web Assembly](https://en.wikipedia.org/wiki/WebAssembly)"
   ]
  },
  {
   "cell_type": "markdown",
   "id": "e8f20b40-5bf4-4ba8-a146-57e7a38eb59a",
   "metadata": {
    "editable": true,
    "slideshow": {
     "slide_type": "fragment"
    },
    "tags": []
   },
   "source": [
    "Emscripten can compile existing C++ programs and generate web assembly"
   ]
  },
  {
   "cell_type": "markdown",
   "id": "4728dded-7eba-4796-98f0-584d42f86753",
   "metadata": {
    "editable": true,
    "slideshow": {
     "slide_type": "fragment"
    },
    "tags": []
   },
   "source": [
    ":::{image} img/mind-blown.gif\n",
    ":::"
   ]
  },
  {
   "attachments": {},
   "cell_type": "markdown",
   "id": "ee47aca5-f507-421a-b26a-1db30443a207",
   "metadata": {
    "editable": true,
    "slideshow": {
     "slide_type": "slide"
    },
    "tags": []
   },
   "source": [
    "## Running _Analyses_ in the Browser\n",
    "\n",
    "Running Python code in a web-page is cool! But, most of us don't write applications."
   ]
  },
  {
   "cell_type": "markdown",
   "id": "d311d7a7-bafc-41e1-83d4-c9ac5e0bafb6",
   "metadata": {
    "editable": true,
    "slideshow": {
     "slide_type": "fragment"
    },
    "tags": []
   },
   "source": [
    "Scientists 👩‍🔬 use Jupyter (Lab), though many still use Jupyter Notebook (see {numref}`jupyter-notebook`).\n",
    "\n",
    ":::{figure} img/jupyterpreview.png\n",
    ":align: left\n",
    ":name: jupyter-notebook\n",
    "\n",
    "Jupyter Notebook User Interface.\n",
    ":::"
   ]
  },
  {
   "cell_type": "markdown",
   "id": "a5a7f372-28ef-4eec-9913-26275977f286",
   "metadata": {
    "editable": true,
    "slideshow": {
     "slide_type": "fragment"
    },
    "tags": []
   },
   "source": [
    ":::{note} \n",
    "This _talk_ is written in JupyterLab! <button data-commandlinker-command=\"deck:stop\">Click here to see</button>\n",
    ":::"
   ]
  },
  {
   "cell_type": "markdown",
   "id": "9b965d9f-2203-4c04-a04a-4315ba320d32",
   "metadata": {
    "editable": true,
    "slideshow": {
     "slide_type": "subslide"
    },
    "tags": []
   },
   "source": [
    ":::{image} img/jupyter-lab-dark.svg\n",
    ":::"
   ]
  },
  {
   "cell_type": "markdown",
   "id": "7493de6b-e05e-4102-9c2c-2aec0f313f75",
   "metadata": {
    "editable": true,
    "slideshow": {
     "slide_type": "fragment"
    },
    "tags": []
   },
   "source": [
    "JupyterLab is built in TypeScript (JavaScript)"
   ]
  },
  {
   "cell_type": "markdown",
   "id": "3d035dc6-eecc-4156-b675-51bf6facaf09",
   "metadata": {
    "editable": true,
    "slideshow": {
     "slide_type": "fragment"
    },
    "tags": []
   },
   "source": [
    "It is composed from the ground up of from _plugins_ that provide core functionality"
   ]
  },
  {
   "cell_type": "markdown",
   "id": "5ec95deb-4e83-46a4-9d7e-5f199711651d",
   "metadata": {
    "editable": true,
    "slideshow": {
     "slide_type": "fragment"
    },
    "tags": []
   },
   "source": [
    "It is able to communicate with remote servers that execute user code"
   ]
  },
  {
   "cell_type": "markdown",
   "id": "2f04a2c0-1ea0-4627-90e7-59f45ef9abc4",
   "metadata": {
    "editable": true,
    "slideshow": {
     "slide_type": "fragment"
    },
    "tags": []
   },
   "source": [
    "Running JupyterLab requires a web-server for file IO and executing kernels"
   ]
  },
  {
   "cell_type": "markdown",
   "id": "ce88be0b-0d2a-4b0c-8286-58dae08a2824",
   "metadata": {
    "@deathbeds/jupyterlab-fonts": {
     "styles": {
      "": {
       "body[data-jp-deck-mode='presenting'] &": {
        "height": "auto",
        "left": "0%",
        "position": "fixed",
        "top": "0%",
        "width": "50%"
       }
      }
     }
    },
    "editable": true,
    "slideshow": {
     "slide_type": "subslide"
    },
    "tags": []
   },
   "source": [
    ":::{image} img/my-binder.png\n",
    ":::"
   ]
  },
  {
   "cell_type": "markdown",
   "id": "a9bf0b74-69ff-4db0-864e-4c3d520040a3",
   "metadata": {
    "@deathbeds/jupyterlab-fonts": {
     "styles": {
      "": {
       "body[data-jp-deck-mode='presenting'] &": {
        "height": "auto",
        "left": "50%",
        "position": "relative",
        "top": "0%",
        "width": "50%"
       }
      }
     }
    },
    "editable": true,
    "slideshow": {
     "slide_type": "fragment"
    },
    "tags": []
   },
   "source": [
    "<https://mybinder.org> provides a service to build and serve Jupyter sessions to anonymous users"
   ]
  },
  {
   "cell_type": "markdown",
   "id": "4b35b557-9ba3-4c3c-9237-66106355015d",
   "metadata": {
    "@deathbeds/jupyterlab-fonts": {
     "styles": {
      "": {
       "body[data-jp-deck-mode='presenting'] &": {
        "height": "auto",
        "left": "50%",
        "position": "relative",
        "top": "0%",
        "width": "50%"
       }
      }
     }
    },
    "editable": true,
    "slideshow": {
     "slide_type": "fragment"
    },
    "tags": []
   },
   "source": [
    "Supports live demonstrations, but also underpins reproducibility efforts — [![badge](https://mybinder.org/badge_logo.svg)](mybinder.org)"
   ]
  },
  {
   "cell_type": "markdown",
   "id": "8cddfe94-37fe-476b-be68-7e569fde96f1",
   "metadata": {
    "@deathbeds/jupyterlab-fonts": {
     "styles": {
      "": {
       "body[data-jp-deck-mode='presenting'] &": {
        "height": "auto",
        "left": "50%",
        "position": "relative",
        "top": "0%",
        "width": "50%"
       }
      }
     }
    },
    "editable": true,
    "slideshow": {
     "slide_type": "fragment"
    },
    "tags": []
   },
   "source": [
    "Limited resources struggles to meet significant demand\n",
    "\n",
    ":::{image} img/my-binder-blog.png\n",
    ":width: 100%\n",
    ":::"
   ]
  },
  {
   "attachments": {},
   "cell_type": "markdown",
   "id": "ab5bf7d2-9932-4005-9288-ff8da96d9712",
   "metadata": {
    "editable": true,
    "slideshow": {
     "slide_type": "subslide"
    },
    "tags": []
   },
   "source": [
    ":::{image} img/jupyterlite.webp\n",
    ":align: center\n",
    ":width: 250px\n",
    ":::"
   ]
  },
  {
   "cell_type": "markdown",
   "id": "fde2ee22-b5bd-4118-b9c3-2d40077a688f",
   "metadata": {
    "editable": true,
    "slideshow": {
     "slide_type": "fragment"
    },
    "tags": []
   },
   "source": [
    "_JupyterLite_ is an entirely in-browser version of JupyterLab. "
   ]
  },
  {
   "cell_type": "markdown",
   "id": "c1fe7b01-4c1f-4d30-858a-2d6bd5d89e2d",
   "metadata": {
    "editable": true,
    "slideshow": {
     "slide_type": "fragment"
    },
    "tags": []
   },
   "source": [
    "It reuses most of JupyterLab's extensions, with some additional plugins for kernels etc."
   ]
  },
  {
   "cell_type": "markdown",
   "id": "27dc3be2-d074-4bc0-be34-99830219b461",
   "metadata": {
    "editable": true,
    "slideshow": {
     "slide_type": ""
    },
    "tags": []
   },
   "source": [
    "Like JupyterLab, it supports RTC, File Browsers, and much more!"
   ]
  },
  {
   "cell_type": "markdown",
   "id": "9c25cbc5-7aa0-47c3-a855-400f9afdd288",
   "metadata": {
    "editable": true,
    "slideshow": {
     "slide_type": "subslide"
    },
    "tags": []
   },
   "source": [
    "The `jupyterlite-pyodide-kernel` implements a Python kernel using Pyodide."
   ]
  },
  {
   "cell_type": "markdown",
   "id": "fbd8879a-f873-45c5-b4f7-f99b1b4074a1",
   "metadata": {
    "editable": true,
    "slideshow": {
     "slide_type": "fragment"
    },
    "tags": []
   },
   "source": [
    "It provides `piplite`, to allow pre-registration of custom wheels.\n",
    "\n",
    ":::{code} ipython\n",
    ":caption: Example piplite command\n",
    "\n",
    "%piplite install awkward\n",
    ":::"
   ]
  },
  {
   "cell_type": "markdown",
   "id": "f6b11466-fee8-4018-9f7e-eef172b1cc9d",
   "metadata": {
    "editable": true,
    "slideshow": {
     "slide_type": "subslide"
    },
    "tags": []
   },
   "source": [
    ":::{image} img/xeus-python.svg\n",
    "\n",
    ":::"
   ]
  },
  {
   "cell_type": "markdown",
   "id": "d8c81e77-35c1-4111-bd63-4ef2615a53e6",
   "metadata": {
    "editable": true,
    "slideshow": {
     "slide_type": "fragment"
    },
    "tags": []
   },
   "source": [
    "In practice, the `xeus-python` kernel tends to be faster than `ipykernel`"
   ]
  },
  {
   "cell_type": "markdown",
   "id": "166827bb-f936-4c83-b657-20ae54746a1a",
   "metadata": {
    "editable": true,
    "slideshow": {
     "slide_type": "fragment"
    },
    "tags": []
   },
   "source": [
    "`xeus-python` has near feature parity with `ipykernel`"
   ]
  },
  {
   "cell_type": "markdown",
   "id": "1d18c973-fbbc-44e4-8563-28ea82cc28fd",
   "metadata": {
    "editable": true,
    "slideshow": {
     "slide_type": "fragment"
    },
    "tags": []
   },
   "source": [
    "`jupyterlite/xeus-python-kernel` supports bundling packages from an `environment.yml` (see {numref}`environment-demo`)"
   ]
  },
  {
   "cell_type": "markdown",
   "id": "323eb81c-3e21-4389-8234-b6a132b1eb20",
   "metadata": {
    "editable": true,
    "slideshow": {
     "slide_type": "slide"
    },
    "tags": []
   },
   "source": [
    ":::{card} Go to Demo\n",
    ":link: demo.ipynb\n",
    "\n",
    "A demo of the [PyHEP 2022 Talk by Jim Pivarski](https://indico.cern.ch/event/1150631/contributions/5000596/).\n",
    ":::"
   ]
  }
 ],
 "metadata": {
  "kernelspec": {
   "display_name": "Python 3 (ipykernel)",
   "language": "python",
   "name": "python3"
  },
  "language_info": {
   "codemirror_mode": {
    "name": "ipython",
    "version": 3
   },
   "file_extension": ".py",
   "mimetype": "text/x-python",
   "name": "python",
   "nbconvert_exporter": "python",
   "pygments_lexer": "ipython3",
   "version": "3.11.5"
  }
 },
 "nbformat": 4,
 "nbformat_minor": 5
}
